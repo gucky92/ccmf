{
 "cells": [
  {
   "cell_type": "code",
   "execution_count": 1,
   "metadata": {},
   "outputs": [],
   "source": [
    "import sys\n",
    "import pyro\n",
    "from pyro.infer import SVI, Trace_ELBO\n",
    "from pyro.infer.autoguide import AutoDelta\n",
    "from pyro.optim import Adam\n",
    "from tqdm import tqdm\n",
    "import numpy as np\n",
    "import matplotlib.pyplot as plt\n",
    "import seaborn as sns\n",
    "import torch\n",
    "sys.path.append('../')"
   ]
  },
  {
   "cell_type": "code",
   "execution_count": 2,
   "metadata": {},
   "outputs": [],
   "source": [
    "from design import model"
   ]
  },
  {
   "cell_type": "code",
   "execution_count": 3,
   "metadata": {},
   "outputs": [],
   "source": [
    "circuit = model.CircuitModel()"
   ]
  },
  {
   "cell_type": "code",
   "execution_count": 4,
   "metadata": {},
   "outputs": [
    {
     "data": {
      "text/plain": [
       "<design.model.CircuitModel at 0x1a2b0aae80>"
      ]
     },
     "execution_count": 4,
     "metadata": {},
     "output_type": "execute_result"
    }
   ],
   "source": [
    "circuit.add_neuron('a', vary=False)\n",
    "circuit.add_neuron('b', vary=False)\n",
    "circuit.add_neuron('c', nonlin=torch.tanh, offset=None, gain=None)\n",
    "circuit.add_neuron('d', nonlin=torch.tanh, offset=None, gain=None)"
   ]
  },
  {
   "cell_type": "code",
   "execution_count": 5,
   "metadata": {},
   "outputs": [],
   "source": [
    "a = np.random.normal(0, 1, 100)[:, None]\n",
    "b = np.random.normal(0, 1, 100)[:, None]\n",
    "c = np.tanh(0.2 * a + 0.8 * b)  # TODO normalize before\n",
    "c_data = c + np.random.normal(0, np.ones(50) * 0.1)[None, :]\n",
    "c_data = c_data * np.random.random(50)[None, :]\n",
    "d = np.tanh(0.3 * a + 0.3 * b + 0.4 * c)\n",
    "d_data = d + np.random.normal(0, np.ones(35) * 0.1)[None, :]\n",
    "d_data = d_data * np.random.random(35)[None, :]"
   ]
  },
  {
   "cell_type": "code",
   "execution_count": 6,
   "metadata": {},
   "outputs": [
    {
     "data": {
      "text/plain": [
       "<matplotlib.collections.PathCollection at 0x1a2b146320>"
      ]
     },
     "execution_count": 6,
     "metadata": {},
     "output_type": "execute_result"
    },
    {
     "data": {
      "image/png": "[encoded data removed]",
      "text/plain": [
       "<Figure size 432x288 with 1 Axes>"
      ]
     },
     "metadata": {
      "needs_background": "light"
     },
     "output_type": "display_data"
    }
   ],
   "source": [
    "plt.scatter(a, d_data[:, 4])"
   ]
  },
  {
   "cell_type": "code",
   "execution_count": 7,
   "metadata": {},
   "outputs": [
    {
     "data": {
      "text/plain": [
       "<design.model.CircuitModel at 0x1a2b0aae80>"
      ]
     },
     "execution_count": 7,
     "metadata": {},
     "output_type": "execute_result"
    }
   ],
   "source": [
    "circuit.add_synapse('a', 'c', sign=1.0)\n",
    "circuit.add_synapse('b', 'c', sign=1.0)\n",
    "circuit.add_synapse('a', 'd', sign=1.0)\n",
    "circuit.add_synapse('b', 'd', sign=1.0)\n",
    "circuit.add_synapse('c', 'd', sign=1.0)"
   ]
  },
  {
   "cell_type": "code",
   "execution_count": 8,
   "metadata": {},
   "outputs": [
    {
     "data": {
      "text/plain": [
       "<design.model.CircuitModel at 0x1a2b0aae80>"
      ]
     },
     "execution_count": 8,
     "metadata": {},
     "output_type": "execute_result"
    }
   ],
   "source": [
    "circuit.add_data('c', c_data)\n",
    "circuit.add_data('d', d_data)\n",
    "circuit.add_data('a', a, scale=0)\n",
    "circuit.add_data('b', b, scale=0)"
   ]
  },
  {
   "cell_type": "code",
   "execution_count": 9,
   "metadata": {},
   "outputs": [],
   "source": [
    "from ccmf.inference import map"
   ]
  },
  {
   "cell_type": "code",
   "execution_count": 10,
   "metadata": {},
   "outputs": [],
   "source": [
    "est = map.MAPEstimator(circuit.conditioned_model)"
   ]
  },
  {
   "cell_type": "code",
   "execution_count": 13,
   "metadata": {},
   "outputs": [
    {
     "name": "stderr",
     "output_type": "stream",
     "text": [
      "100%|██████████| 1000/1000 [00:06<00:00, 152.55it/s]\n"
     ]
    },
    {
     "data": {
      "text/plain": [
       "MAPEstimator(guide=None, loss=None, model=None, optimizer=None)"
      ]
     },
     "execution_count": 13,
     "metadata": {},
     "output_type": "execute_result"
    }
   ],
   "source": [
    "est.fit()"
   ]
  },
  {
   "cell_type": "code",
   "execution_count": 14,
   "metadata": {},
   "outputs": [
    {
     "data": {
      "text/plain": [
       "{'a->c': tensor(0.3119),\n",
       " 'b->c': tensor(0.4552),\n",
       " 'c': tensor([ 0.3128,  0.2883,  0.1181,  0.0734, -0.1280,  0.1386, -0.0117, -0.2585,\n",
       "         -0.2350,  0.0239, -0.0470,  0.0478, -0.0662, -0.1625, -0.1232, -0.1555,\n",
       "         -0.2108, -0.1840, -0.0871,  0.2404,  0.0166, -0.1753, -0.1109, -0.1944,\n",
       "         -0.3171, -0.3315, -0.1876,  0.1377, -0.0410, -0.1462,  0.3120, -0.0849,\n",
       "          0.1386, -0.1974,  0.2455,  0.2561, -0.1408,  0.1857, -0.1469,  0.3190,\n",
       "          0.2693, -0.0333, -0.2576, -0.2267, -0.1086,  0.1515, -0.1969,  0.2724,\n",
       "          0.1473, -0.0724,  0.1672, -0.1129,  0.3149, -0.2574,  0.0608, -0.2303,\n",
       "         -0.1845, -0.1783, -0.3229,  0.1005,  0.3118,  0.1247,  0.0433, -0.1443,\n",
       "          0.0967,  0.1638, -0.1122, -0.0288,  0.2141, -0.0095,  0.2292, -0.2216,\n",
       "         -0.2400, -0.0975, -0.1375,  0.2361, -0.1002, -0.2808, -0.1638,  0.0382,\n",
       "         -0.0727,  0.2690,  0.0612,  0.0140,  0.2076,  0.0860,  0.2692,  0.3027,\n",
       "         -0.0793, -0.0524, -0.1990,  0.2110, -0.2902,  0.1098, -0.1506,  0.2248,\n",
       "         -0.2671,  0.2043,  0.1079, -0.2267]),\n",
       " 'a->d': tensor(0.3658),\n",
       " 'b->d': tensor(0.4231),\n",
       " 'c->d': tensor(0.3216),\n",
       " 'd': tensor([ 0.3384,  0.3946,  0.2544,  0.1038, -0.0366,  0.2047, -0.1570, -0.2999,\n",
       "         -0.1818,  0.0619, -0.0027,  0.0052, -0.0367, -0.1644, -0.1277, -0.2430,\n",
       "         -0.2768, -0.1707, -0.0960,  0.2179,  0.1910, -0.1931, -0.1722, -0.3233,\n",
       "         -0.3067, -0.3963, -0.2090,  0.0992, -0.0075, -0.1760,  0.4016, -0.1367,\n",
       "          0.0773, -0.1974,  0.2497,  0.3496, -0.1992,  0.3155, -0.1589,  0.3716,\n",
       "          0.3147,  0.0529, -0.2856, -0.3497, -0.0166,  0.0543, -0.1129,  0.3405,\n",
       "          0.0707,  0.0345,  0.2852, -0.0593,  0.3764, -0.2878,  0.1431, -0.2178,\n",
       "         -0.2012, -0.1851, -0.3585, -0.0703,  0.2608,  0.0956,  0.1013, -0.2384,\n",
       "          0.1114,  0.1137, -0.1441, -0.1322,  0.2884, -0.0405,  0.2753, -0.2639,\n",
       "         -0.1182, -0.0729, -0.0090,  0.2332, -0.0616, -0.3142, -0.2043, -0.0344,\n",
       "         -0.1985,  0.4110, -0.0199,  0.1029,  0.2313,  0.1634,  0.2534,  0.4351,\n",
       "         -0.1210, -0.2106, -0.2371,  0.2425, -0.3578,  0.1737, -0.1018,  0.1398,\n",
       "         -0.3534,  0.1720,  0.2022, -0.2611])}"
      ]
     },
     "execution_count": 14,
     "metadata": {},
     "output_type": "execute_result"
    }
   ],
   "source": [
    "est.map_estimates"
   ]
  },
  {
   "cell_type": "code",
   "execution_count": 15,
   "metadata": {},
   "outputs": [
    {
     "data": {
      "text/plain": [
       "[<matplotlib.lines.Line2D at 0x1a2e8402b0>]"
      ]
     },
     "execution_count": 15,
     "metadata": {},
     "output_type": "execute_result"
    },
    {
     "data": {
      "image/png": "[encoded data removed]",
      "text/plain": [
       "<Figure size 432x288 with 1 Axes>"
      ]
     },
     "metadata": {
      "needs_background": "light"
     },
     "output_type": "display_data"
    }
   ],
   "source": [
    "plt.plot(est.loss_curve)"
   ]
  },
  {
   "cell_type": "code",
   "execution_count": 16,
   "metadata": {},
   "outputs": [
    {
     "data": {
      "text/plain": [
       "tensor(0.3119, grad_fn=<AddBackward0>)"
      ]
     },
     "execution_count": 16,
     "metadata": {},
     "output_type": "execute_result"
    }
   ],
   "source": [
    "pyro.param('AutoDelta.a->c')"
   ]
  },
  {
   "cell_type": "code",
   "execution_count": 17,
   "metadata": {},
   "outputs": [
    {
     "data": {
      "text/plain": [
       "tensor(0.4552, grad_fn=<AddBackward0>)"
      ]
     },
     "execution_count": 17,
     "metadata": {},
     "output_type": "execute_result"
    }
   ],
   "source": [
    "pyro.param('AutoDelta.b->c')"
   ]
  },
  {
   "cell_type": "code",
   "execution_count": 18,
   "metadata": {},
   "outputs": [
    {
     "data": {
      "text/plain": [
       "<matplotlib.collections.PathCollection at 0x1a2e8ad780>"
      ]
     },
     "execution_count": 18,
     "metadata": {},
     "output_type": "execute_result"
    },
    {
     "data": {
      "image/png": "[encoded data removed]",
      "text/plain": [
       "<Figure size 432x288 with 1 Axes>"
      ]
     },
     "metadata": {
      "needs_background": "light"
     },
     "output_type": "display_data"
    }
   ],
   "source": [
    "plt.scatter(\n",
    "    np.array(pyro.param('AutoDelta.d').detach()), \n",
    "    d\n",
    ")"
   ]
  },
  {
   "cell_type": "code",
   "execution_count": 19,
   "metadata": {},
   "outputs": [
    {
     "data": {
      "text/plain": [
       "<matplotlib.collections.PathCollection at 0x1a2e861c50>"
      ]
     },
     "execution_count": 19,
     "metadata": {},
     "output_type": "execute_result"
    },
    {
     "data": {
      "image/png": "[encoded data removed]",
      "text/plain": [
       "<Figure size 432x288 with 1 Axes>"
      ]
     },
     "metadata": {
      "needs_background": "light"
     },
     "output_type": "display_data"
    }
   ],
   "source": [
    "plt.scatter(\n",
    "    np.array(pyro.param('AutoDelta.c').detach()), \n",
    "    c\n",
    ")"
   ]
  },
  {
   "cell_type": "code",
   "execution_count": null,
   "metadata": {},
   "outputs": [],
   "source": []
  }
 ],
 "metadata": {
  "kernelspec": {
   "display_name": "Python 3",
   "language": "python",
   "name": "python3"
  },
  "language_info": {
   "codemirror_mode": {
    "name": "ipython",
    "version": 3
   },
   "file_extension": ".py",
   "mimetype": "text/x-python",
   "name": "python",
   "nbconvert_exporter": "python",
   "pygments_lexer": "ipython3",
   "version": "3.7.3"
  }
 },
 "nbformat": 4,
 "nbformat_minor": 2
}
