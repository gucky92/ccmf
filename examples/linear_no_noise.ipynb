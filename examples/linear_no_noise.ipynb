{
 "cells": [
  {
   "cell_type": "code",
   "execution_count": 1,
   "metadata": {
    "slideshow": {
     "slide_type": "skip"
    }
   },
   "outputs": [
    {
     "data": {
      "text/plain": [
       "<torch._C.Generator at 0x1ba1e54aa50>"
      ]
     },
     "execution_count": 1,
     "metadata": {},
     "output_type": "execute_result"
    }
   ],
   "source": [
    "import sys\n",
    "import matplotlib.pyplot as plt\n",
    "import numpy as np\n",
    "import pandas as pd\n",
    "import pickle\n",
    "import torch\n",
    "import seaborn as sns\n",
    "from sklearn.manifold import TSNE\n",
    "import os\n",
    "try:\n",
    "    os.mkdir('figures')\n",
    "except FileExistsError:\n",
    "    pass\n",
    "\n",
    "import warnings\n",
    "warnings.filterwarnings('ignore')\n",
    "\n",
    "sys.path.append('..')\n",
    "from ccmf import CCMF, CircuitEditor, UniformModel, load_fake_dm9\n",
    "\n",
    "np.random.seed(10)\n",
    "torch.manual_seed(10)"
   ]
  },
  {
   "cell_type": "code",
   "execution_count": 2,
   "metadata": {
    "hidePrompt": false,
    "slideshow": {
     "slide_type": "skip"
    }
   },
   "outputs": [],
   "source": [
    "notebook_name = 'linear_no_noise'"
   ]
  },
  {
   "cell_type": "markdown",
   "metadata": {
    "hidePrompt": false,
    "slideshow": {
     "slide_type": "slide"
    }
   },
   "source": [
    "# Load circuit"
   ]
  },
  {
   "cell_type": "code",
   "execution_count": 3,
   "metadata": {
    "slideshow": {
     "slide_type": "fragment"
    }
   },
   "outputs": [
    {
     "data": {
      "image/png": "[encoded data removed]",
      "text/plain": [
       "<Figure size 432x288 with 1 Axes>"
      ]
     },
     "metadata": {},
     "output_type": "display_data"
    }
   ],
   "source": [
    "circuit = pickle.load(open('circuits/Dm9.circuit', 'rb'))\n",
    "circuit.show()"
   ]
  },
  {
   "cell_type": "markdown",
   "metadata": {
    "slideshow": {
     "slide_type": "slide"
    }
   },
   "source": [
    "# Load data"
   ]
  },
  {
   "cell_type": "code",
   "execution_count": 4,
   "metadata": {
    "slideshow": {
     "slide_type": "fragment"
    }
   },
   "outputs": [
    {
     "data": {
      "text/html": [
       "<div>\n",
       "<style scoped>\n",
       "    .dataframe tbody tr th:only-of-type {\n",
       "        vertical-align: middle;\n",
       "    }\n",
       "\n",
       "    .dataframe tbody tr th {\n",
       "        vertical-align: top;\n",
       "    }\n",
       "\n",
       "    .dataframe thead th {\n",
       "        text-align: right;\n",
       "    }\n",
       "</style>\n",
       "<table border=\"1\" class=\"dataframe\">\n",
       "  <thead>\n",
       "    <tr style=\"text-align: right;\">\n",
       "      <th>stimulus</th>\n",
       "      <th>300.000000</th>\n",
       "      <th>327.777778</th>\n",
       "      <th>355.555556</th>\n",
       "      <th>383.333333</th>\n",
       "      <th>411.111111</th>\n",
       "      <th>438.888889</th>\n",
       "      <th>466.666667</th>\n",
       "      <th>494.444444</th>\n",
       "      <th>522.222222</th>\n",
       "      <th>550.000000</th>\n",
       "    </tr>\n",
       "    <tr>\n",
       "      <th>cell</th>\n",
       "      <th></th>\n",
       "      <th></th>\n",
       "      <th></th>\n",
       "      <th></th>\n",
       "      <th></th>\n",
       "      <th></th>\n",
       "      <th></th>\n",
       "      <th></th>\n",
       "      <th></th>\n",
       "      <th></th>\n",
       "    </tr>\n",
       "  </thead>\n",
       "  <tbody>\n",
       "    <tr>\n",
       "      <th>Rh3</th>\n",
       "      <td>0.606531</td>\n",
       "      <td>0.905955</td>\n",
       "      <td>0.993846</td>\n",
       "      <td>0.800737</td>\n",
       "      <td>0.473827</td>\n",
       "      <td>0.205924</td>\n",
       "      <td>0.065729</td>\n",
       "      <td>0.015408</td>\n",
       "      <td>0.002653</td>\n",
       "      <td>0.000335</td>\n",
       "    </tr>\n",
       "    <tr>\n",
       "      <th>Rh4</th>\n",
       "      <td>0.135335</td>\n",
       "      <td>0.352322</td>\n",
       "      <td>0.673638</td>\n",
       "      <td>0.945959</td>\n",
       "      <td>0.975611</td>\n",
       "      <td>0.738991</td>\n",
       "      <td>0.411112</td>\n",
       "      <td>0.167973</td>\n",
       "      <td>0.050406</td>\n",
       "      <td>0.011109</td>\n",
       "    </tr>\n",
       "    <tr>\n",
       "      <th>Rh5</th>\n",
       "      <td>0.011109</td>\n",
       "      <td>0.050406</td>\n",
       "      <td>0.167973</td>\n",
       "      <td>0.411112</td>\n",
       "      <td>0.738991</td>\n",
       "      <td>0.975611</td>\n",
       "      <td>0.945959</td>\n",
       "      <td>0.673638</td>\n",
       "      <td>0.352322</td>\n",
       "      <td>0.135335</td>\n",
       "    </tr>\n",
       "    <tr>\n",
       "      <th>Rh6</th>\n",
       "      <td>0.000335</td>\n",
       "      <td>0.002653</td>\n",
       "      <td>0.015408</td>\n",
       "      <td>0.065729</td>\n",
       "      <td>0.205924</td>\n",
       "      <td>0.473827</td>\n",
       "      <td>0.800737</td>\n",
       "      <td>0.993846</td>\n",
       "      <td>0.905955</td>\n",
       "      <td>0.606531</td>\n",
       "    </tr>\n",
       "    <tr>\n",
       "      <th>pR7</th>\n",
       "      <td>0.792459</td>\n",
       "      <td>1.161199</td>\n",
       "      <td>1.194870</td>\n",
       "      <td>0.762329</td>\n",
       "      <td>0.079556</td>\n",
       "      <td>-0.473936</td>\n",
       "      <td>-0.670218</td>\n",
       "      <td>-0.556945</td>\n",
       "      <td>-0.332050</td>\n",
       "      <td>-0.150686</td>\n",
       "    </tr>\n",
       "    <tr>\n",
       "      <th>yR7</th>\n",
       "      <td>0.171381</td>\n",
       "      <td>0.454857</td>\n",
       "      <td>0.869636</td>\n",
       "      <td>1.186215</td>\n",
       "      <td>1.103980</td>\n",
       "      <td>0.571343</td>\n",
       "      <td>-0.112891</td>\n",
       "      <td>-0.566997</td>\n",
       "      <td>-0.637469</td>\n",
       "      <td>-0.450452</td>\n",
       "    </tr>\n",
       "    <tr>\n",
       "      <th>pR8</th>\n",
       "      <td>-0.398385</td>\n",
       "      <td>-0.549900</td>\n",
       "      <td>-0.456876</td>\n",
       "      <td>-0.016921</td>\n",
       "      <td>0.609885</td>\n",
       "      <td>1.065438</td>\n",
       "      <td>1.090244</td>\n",
       "      <td>0.759515</td>\n",
       "      <td>0.367288</td>\n",
       "      <td>0.119314</td>\n",
       "    </tr>\n",
       "    <tr>\n",
       "      <th>yR8</th>\n",
       "      <td>-0.098619</td>\n",
       "      <td>-0.244481</td>\n",
       "      <td>-0.446824</td>\n",
       "      <td>-0.574247</td>\n",
       "      <td>-0.435394</td>\n",
       "      <td>0.041014</td>\n",
       "      <td>0.666359</td>\n",
       "      <td>1.084749</td>\n",
       "      <td>1.073630</td>\n",
       "      <td>0.740392</td>\n",
       "    </tr>\n",
       "    <tr>\n",
       "      <th>Dm9</th>\n",
       "      <td>-0.026529</td>\n",
       "      <td>-0.039411</td>\n",
       "      <td>-0.054828</td>\n",
       "      <td>-0.093737</td>\n",
       "      <td>-0.178657</td>\n",
       "      <td>-0.294283</td>\n",
       "      <td>-0.381648</td>\n",
       "      <td>-0.385191</td>\n",
       "      <td>-0.302119</td>\n",
       "      <td>-0.182729</td>\n",
       "    </tr>\n",
       "  </tbody>\n",
       "</table>\n",
       "</div>"
      ],
      "text/plain": [
       "stimulus  300.000000  327.777778  355.555556  383.333333  411.111111  \\\n",
       "cell                                                                   \n",
       "Rh3         0.606531    0.905955    0.993846    0.800737    0.473827   \n",
       "Rh4         0.135335    0.352322    0.673638    0.945959    0.975611   \n",
       "Rh5         0.011109    0.050406    0.167973    0.411112    0.738991   \n",
       "Rh6         0.000335    0.002653    0.015408    0.065729    0.205924   \n",
       "pR7         0.792459    1.161199    1.194870    0.762329    0.079556   \n",
       "yR7         0.171381    0.454857    0.869636    1.186215    1.103980   \n",
       "pR8        -0.398385   -0.549900   -0.456876   -0.016921    0.609885   \n",
       "yR8        -0.098619   -0.244481   -0.446824   -0.574247   -0.435394   \n",
       "Dm9        -0.026529   -0.039411   -0.054828   -0.093737   -0.178657   \n",
       "\n",
       "stimulus  438.888889  466.666667  494.444444  522.222222  550.000000  \n",
       "cell                                                                  \n",
       "Rh3         0.205924    0.065729    0.015408    0.002653    0.000335  \n",
       "Rh4         0.738991    0.411112    0.167973    0.050406    0.011109  \n",
       "Rh5         0.975611    0.945959    0.673638    0.352322    0.135335  \n",
       "Rh6         0.473827    0.800737    0.993846    0.905955    0.606531  \n",
       "pR7        -0.473936   -0.670218   -0.556945   -0.332050   -0.150686  \n",
       "yR7         0.571343   -0.112891   -0.566997   -0.637469   -0.450452  \n",
       "pR8         1.065438    1.090244    0.759515    0.367288    0.119314  \n",
       "yR8         0.041014    0.666359    1.084749    1.073630    0.740392  \n",
       "Dm9        -0.294283   -0.381648   -0.385191   -0.302119   -0.182729  "
      ]
     },
     "execution_count": 4,
     "metadata": {},
     "output_type": "execute_result"
    }
   ],
   "source": [
    "W, M, U, X = load_fake_dm9()\n",
    "X"
   ]
  },
  {
   "cell_type": "markdown",
   "metadata": {
    "slideshow": {
     "slide_type": "slide"
    }
   },
   "source": [
    "# Fitting (MAP estimation)"
   ]
  },
  {
   "cell_type": "code",
   "execution_count": 5,
   "metadata": {
    "slideshow": {
     "slide_type": "fragment"
    }
   },
   "outputs": [
    {
     "name": "stderr",
     "output_type": "stream",
     "text": [
      "100%|██████████████████████████████████████████████████████████████████████████████| 2000/2000 [00:23<00:00, 86.59it/s]\n"
     ]
    },
    {
     "data": {
      "text/plain": [
       "CCMF(guide=None, kernel=None, loss=None, model=None, optimizer=None)"
      ]
     },
     "execution_count": 5,
     "metadata": {},
     "output_type": "execute_result"
    }
   ],
   "source": [
    "ccmf = CCMF(UniformModel(circuit), sigma_u=1, sigma_x=1, max_iter=2000)\n",
    "ccmf.fit(X)"
   ]
  },
  {
   "cell_type": "code",
   "execution_count": 6,
   "metadata": {
    "hideCode": true,
    "slideshow": {
     "slide_type": "fragment"
    }
   },
   "outputs": [
    {
     "data": {
      "text/plain": [
       "Text(0, 0.5, 'Loss')"
      ]
     },
     "execution_count": 6,
     "metadata": {},
     "output_type": "execute_result"
    },
    {
     "data": {
      "image/png": "[encoded data removed]",
      "text/plain": [
       "<Figure size 432x288 with 1 Axes>"
      ]
     },
     "metadata": {
      "needs_background": "light"
     },
     "output_type": "display_data"
    }
   ],
   "source": [
    "plt.figure()\n",
    "plt.plot(ccmf.loss_curve)\n",
    "plt.ylabel('Loss')"
   ]
  },
  {
   "cell_type": "markdown",
   "metadata": {
    "slideshow": {
     "slide_type": "slide"
    }
   },
   "source": [
    "# Run MCMC"
   ]
  },
  {
   "cell_type": "code",
   "execution_count": null,
   "metadata": {
    "slideshow": {
     "slide_type": "fragment"
    }
   },
   "outputs": [
    {
     "name": "stderr",
     "output_type": "stream",
     "text": [
      "Sample:  13%|█████▍                                    | 13/100 [00:58,  6.72s/it, step size=3.91e-03, acc. prob=0.867]"
     ]
    }
   ],
   "source": [
    "ccmf.run_mcmc(X)"
   ]
  },
  {
   "cell_type": "code",
   "execution_count": null,
   "metadata": {
    "slideshow": {
     "slide_type": "skip"
    }
   },
   "outputs": [],
   "source": [
    "EX = lambda W, M, U: torch.cat([U, UniformModel.EV(W, M, U)])\n",
    "data = dict(W=W, M=M, U=U, X=X)\n",
    "for i in ['U', 'X']:\n",
    "    data[i].columns = pd.Index(data['X'].columns.values.astype(int), name=data['X'].columns.name)\n",
    "map_ = ccmf.map_estimates.copy()\n",
    "mean = ccmf.sample_mean.copy()\n",
    "mean['X'] = EX(mean['W'], mean['M'], mean['U'])\n",
    "map_['X'] = EX(map_['W'], map_['M'], map_['U'])"
   ]
  },
  {
   "cell_type": "markdown",
   "metadata": {
    "slideshow": {
     "slide_type": "slide"
    }
   },
   "source": [
    "# Comparing data, MAP, and sample mean\n",
    "## Feedforward weights"
   ]
  },
  {
   "cell_type": "code",
   "execution_count": null,
   "metadata": {
    "hideCode": true,
    "hidePrompt": false,
    "slideshow": {
     "slide_type": "fragment"
    }
   },
   "outputs": [],
   "source": [
    "fig, axes = plt.subplots(1, 3, figsize=(10, 5))\n",
    "\n",
    "titles = ['Data', 'MAP', 'Sample mean']\n",
    "param = 'W'\n",
    "for i, dataset in enumerate([data, map_, mean]):\n",
    "    sns.heatmap(dataset[param], ax=axes[i], annot=True, cbar=False, fmt='.2f')\n",
    "    axes[i].set_title(titles[i])\n",
    "    if i != 0:\n",
    "        axes[i].axis('off')\n",
    "fig.suptitle(param)\n",
    "fig.tight_layout(rect=[0, 0.03, 1, 0.95])"
   ]
  },
  {
   "cell_type": "markdown",
   "metadata": {
    "slideshow": {
     "slide_type": "slide"
    }
   },
   "source": [
    "## Recurrent weights"
   ]
  },
  {
   "cell_type": "code",
   "execution_count": null,
   "metadata": {
    "hideCode": true,
    "slideshow": {
     "slide_type": "fragment"
    }
   },
   "outputs": [],
   "source": [
    "fig, axes = plt.subplots(1, 3, figsize=(10, 5))\n",
    "\n",
    "titles = ['Data', 'MAP', 'Sample mean']\n",
    "param = 'M'\n",
    "for i, dataset in enumerate([data, map_, mean]):\n",
    "    sns.heatmap(dataset[param], ax=axes[i], annot=True, cbar=False, fmt='.2f')\n",
    "    axes[i].set_title(titles[i])\n",
    "    if i != 0:\n",
    "        axes[i].axis('off')\n",
    "fig.suptitle(param)\n",
    "fig.tight_layout(rect=[0, 0.03, 1, 0.95])"
   ]
  },
  {
   "cell_type": "markdown",
   "metadata": {
    "slideshow": {
     "slide_type": "slide"
    }
   },
   "source": [
    "## Latent inputs"
   ]
  },
  {
   "cell_type": "code",
   "execution_count": null,
   "metadata": {
    "hideCode": true,
    "slideshow": {
     "slide_type": "fragment"
    }
   },
   "outputs": [],
   "source": [
    "fig, axes = plt.subplots(1, 3, figsize=(16, 5))\n",
    "\n",
    "titles = ['Data', 'MAP', 'Sample mean']\n",
    "param = 'U'\n",
    "for i, dataset in enumerate([data, map_, mean]):\n",
    "    sns.heatmap(dataset[param], ax=axes[i], annot=True, cbar=False, fmt='.2f')\n",
    "    axes[i].set_title(titles[i])\n",
    "    if i != 0:\n",
    "        axes[i].axis('off')\n",
    "fig.suptitle(param)\n",
    "fig.tight_layout(rect=[0, 0.03, 1, 0.95])"
   ]
  },
  {
   "cell_type": "markdown",
   "metadata": {
    "slideshow": {
     "slide_type": "slide"
    }
   },
   "source": [
    "## Responses"
   ]
  },
  {
   "cell_type": "code",
   "execution_count": null,
   "metadata": {
    "hideCode": true,
    "hidePrompt": false,
    "slideshow": {
     "slide_type": "fragment"
    }
   },
   "outputs": [],
   "source": [
    "fig, axes = plt.subplots(1, 3, figsize=(16, 5))\n",
    "\n",
    "titles = ['Data', 'MAP', 'Sample mean']\n",
    "param = 'X'\n",
    "for i, dataset in enumerate([data, map_, mean]):\n",
    "    sns.heatmap(dataset[param], ax=axes[i], annot=True, cbar=False, fmt='.2f')\n",
    "    axes[i].set_title(titles[i])\n",
    "    if i != 0:\n",
    "        axes[i].axis('off')\n",
    "fig.suptitle(param)\n",
    "fig.tight_layout(rect=[0, 0.03, 1, 0.95])"
   ]
  },
  {
   "cell_type": "markdown",
   "metadata": {
    "slideshow": {
     "slide_type": "slide"
    }
   },
   "source": [
    "# Graphical posterior predictive checking"
   ]
  },
  {
   "cell_type": "code",
   "execution_count": null,
   "metadata": {
    "hideCode": true,
    "slideshow": {
     "slide_type": "fragment"
    }
   },
   "outputs": [],
   "source": [
    "samples = ccmf.get_samples()\n",
    "post_samples = np.array(torch.stack([EX(Wi, Mi, Ui).flatten() for Wi, Mi, Ui in zip(samples['W'], samples['M'], samples['U'])]))\n",
    "concat = np.concatenate([data['X'].values.reshape(1, data['X'].shape[0] * data['X'].shape[1]), post_samples])\n",
    "embedding = TSNE(n_components=2)\n",
    "y = embedding.fit_transform(concat)\n",
    "labels = np.array([0] + [1] * len(post_samples))\n",
    "\n",
    "plt.figure(figsize=(6, 6))\n",
    "plt.scatter(*y[labels==0].T, label='Data', c='C4')\n",
    "plt.scatter(*y[labels==1].T, label='Posterior', c='C8')\n",
    "plt.legend()\n",
    "plt.title('TSNE')\n",
    "plt.savefig(f'figures/{notebook_name}_tsne.svg', format='svg')"
   ]
  }
 ],
 "metadata": {
  "celltoolbar": "Hide code",
  "kernelspec": {
   "display_name": "probability",
   "language": "python",
   "name": "probability"
  },
  "language_info": {
   "codemirror_mode": {
    "name": "ipython",
    "version": 3
   },
   "file_extension": ".py",
   "mimetype": "text/x-python",
   "name": "python",
   "nbconvert_exporter": "python",
   "pygments_lexer": "ipython3",
   "version": "3.7.0"
  }
 },
 "nbformat": 4,
 "nbformat_minor": 4
}
